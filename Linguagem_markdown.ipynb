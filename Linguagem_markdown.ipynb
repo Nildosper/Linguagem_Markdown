{
 "cells": [
  {
   "cell_type": "markdown",
   "source": [
    "# Linguagem Markdown\r\n",
    "## Usada para marcação"
   ],
   "metadata": {}
  },
  {
   "cell_type": "markdown",
   "source": [
    "## Markdown simples"
   ],
   "metadata": {}
  },
  {
   "cell_type": "markdown",
   "source": [
    "## *Itálico*"
   ],
   "metadata": {}
  },
  {
   "cell_type": "markdown",
   "source": [
    "### Para colocar uma palavra em itálico, podemos colocá-la entre asteriscos simples ou entre underlines simples.\r\n",
    "*Markdown*"
   ],
   "metadata": {}
  },
  {
   "cell_type": "markdown",
   "source": [],
   "metadata": {}
  }
 ],
 "metadata": {
  "orig_nbformat": 4,
  "language_info": {
   "name": "python"
  }
 },
 "nbformat": 4,
 "nbformat_minor": 2
}