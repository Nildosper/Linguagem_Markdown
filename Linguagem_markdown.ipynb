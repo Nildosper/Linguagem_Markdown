{
 "cells": [
  {
   "cell_type": "markdown",
   "source": [
    "# Linguagem Markdown\r\n",
    "## Usada para marcação"
   ],
   "metadata": {}
  },
  {
   "cell_type": "markdown",
   "source": [
    "## Markdown simples"
   ],
   "metadata": {}
  },
  {
   "cell_type": "code",
   "execution_count": null,
   "source": [
    "# Itálico\r\n",
    "Para colocar uma palavra em itálico, podemos colocá-la entre asteriscos simples ou\r\n",
    "entre underlines simples."
   ],
   "outputs": [],
   "metadata": {}
  }
 ],
 "metadata": {
  "orig_nbformat": 4,
  "language_info": {
   "name": "python"
  }
 },
 "nbformat": 4,
 "nbformat_minor": 2
}